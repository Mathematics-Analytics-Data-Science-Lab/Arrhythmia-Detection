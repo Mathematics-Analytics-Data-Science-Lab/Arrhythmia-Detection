{
 "cells": [
  {
   "cell_type": "markdown",
   "metadata": {},
   "source": [
    "# Transfer Learning and Clustering"
   ]
  },
  {
   "cell_type": "markdown",
   "metadata": {},
   "source": [
    "This is the code implementation for the project \"Detecting Cardiac Arrhythmia Using Poincaré plot of Heart Rate Variability (HRV) and Machine Learning\"."
   ]
  },
  {
   "cell_type": "code",
   "execution_count": 1,
   "metadata": {},
   "outputs": [],
   "source": [
    "\n",
    "# =================================================================\n",
    "# Required packages\n",
    "# =================================================================\n",
    "\n",
    "import pandas as pd\n",
    "import numpy as np\n",
    "import os\n",
    "import pickle\n",
    "\n",
    "# for loading/processing the images  \n",
    "from keras.preprocessing.image import load_img \n",
    "from keras.applications.vgg16 import preprocess_input \n",
    "\n",
    "# models \n",
    "from keras.applications.vgg16 import VGG16 \n",
    "from keras.models import Model\n",
    "\n",
    "# clustering and dimension reduction\n",
    "from sklearn.cluster import KMeans\n",
    "from sklearn.decomposition import PCA\n"
   ]
  },
  {
   "cell_type": "code",
   "execution_count": 2,
   "metadata": {},
   "outputs": [],
   "source": [
    "\n",
    "subpath_list=['rr_plots', 'hmrr_plots']\n",
    "\n",
    "X_both=np.empty([179,0])"
   ]
  },
  {
   "cell_type": "code",
   "execution_count": null,
   "metadata": {},
   "outputs": [],
   "source": [
    "\n",
    "for subpath in subpath_list:\n",
    "    \n",
    "    path = r\"C:\\Users\\%s\"%subpath\n",
    "    os.chdir(path)\n",
    "    \n",
    "    signals = []\n",
    "\n",
    "    with os.scandir(path) as files:\n",
    "        for file in files:\n",
    "            if file.name.endswith('.jpeg'):\n",
    "                signals.append(file.name)\n",
    "      \n",
    "            \n",
    "    model = VGG16()\n",
    "    model = Model(inputs = model.inputs, outputs = model.layers[-2].output)\n",
    "\n",
    "    def extract_features(file, model):\n",
    "        img = load_img(file, target_size=(224,224))\n",
    "        img = np.array(img) \n",
    "        reshaped_img = img.reshape(1,224,224,3) \n",
    "        imgx = preprocess_input(reshaped_img)\n",
    "        features = model.predict(imgx, use_multiprocessing=True)\n",
    "        return features\n",
    "\n",
    "\n",
    "    data = {}\n",
    "    p = r\"C:\\Users\\%s\\all_output.pkl\"%subpath\n",
    "\n",
    "    for signal in signals:\n",
    "        try:\n",
    "            feat = extract_features(signal,model)\n",
    "            data[signal] = feat\n",
    "        except:\n",
    "            with open(p,'wb') as file:\n",
    "                pickle.dump(data,file)\n",
    "          \n",
    " \n",
    "    filenames = np.array(list(data.keys()))\n",
    "\n",
    "    feat = np.array(list(data.values()))\n",
    "    print(feat.shape)\n",
    "\n",
    "    feat = feat.reshape(-1,feat.shape[2])\n",
    "    print(feat.shape)\n",
    "\n",
    "    pca = PCA(n_components=40)\n",
    "    pca.fit(feat)\n",
    "    vari=pca.explained_variance_ratio_\n",
    "    \n",
    "    X = pca.transform(feat)\n",
    "    X_both=np.concatenate((X_both, X), axis=1)\n"
   ]
  },
  {
   "cell_type": "code",
   "execution_count": null,
   "metadata": {},
   "outputs": [],
   "source": [
    "\n",
    "kmeans = KMeans(n_clusters=2)\n",
    "kmeans.fit(X_both)\n",
    "\n",
    "clustering_labels=kmeans.labels_\n",
    "print(clustering_labels)\n",
    "\n",
    "# holds the cluster id and the images { id: [images] }\n",
    "groups = {}\n",
    "for file, cluster in zip(filenames,kmeans.labels_):\n",
    "    if cluster not in groups.keys():\n",
    "        groups[cluster] = []\n",
    "        groups[cluster].append(file)\n",
    "    else:\n",
    "        groups[cluster].append(file)\n",
    "        \n",
    "# view the patients' names in each cluster\n",
    "group0 = groups[0]\n",
    "group1 = groups[1]\n"
   ]
  },
  {
   "cell_type": "code",
   "execution_count": null,
   "metadata": {},
   "outputs": [],
   "source": [
    "\n",
    "print(group0)\n"
   ]
  },
  {
   "cell_type": "code",
   "execution_count": null,
   "metadata": {},
   "outputs": [],
   "source": [
    "\n",
    "print(group1)\n"
   ]
  }
 ],
 "metadata": {
  "kernelspec": {
   "display_name": "Python 3",
   "language": "python",
   "name": "python3"
  },
  "language_info": {
   "codemirror_mode": {
    "name": "ipython",
    "version": 3
   },
   "file_extension": ".py",
   "mimetype": "text/x-python",
   "name": "python",
   "nbconvert_exporter": "python",
   "pygments_lexer": "ipython3",
   "version": "3.7.4"
  }
 },
 "nbformat": 4,
 "nbformat_minor": 2
}
